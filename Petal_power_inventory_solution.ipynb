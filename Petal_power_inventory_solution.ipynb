{
  "nbformat": 4,
  "nbformat_minor": 0,
  "metadata": {
    "colab": {
      "provenance": []
    },
    "kernelspec": {
      "name": "python3",
      "display_name": "Python 3"
    },
    "language_info": {
      "name": "python"
    }
  },
  "cells": [
    {
      "cell_type": "code",
      "execution_count": null,
      "metadata": {
        "colab": {
          "base_uri": "https://localhost:8080/"
        },
        "id": "J1UCzCED1LJX",
        "outputId": "24fe792f-86ea-4ccf-e2c9-6e4e8ccc9677"
      },
      "outputs": [
        {
          "output_type": "stream",
          "name": "stdout",
          "text": [
            "        location  product_type         product_description  quantity  price\n",
            "0  Staten Island         seeds                       daisy         4   6.99\n",
            "1  Staten Island         seeds                  calla lily        46  19.99\n",
            "2  Staten Island         seeds                      tomato        85  13.99\n",
            "3  Staten Island  garden tools                        rake         4  13.99\n",
            "4  Staten Island  garden tools                 wheelbarrow         0  89.99\n",
            "5  Staten Island  garden tools                       spade        93  19.99\n",
            "6  Staten Island  pest_control               insect killer        74  12.99\n",
            "7  Staten Island  pest_control                 weed killer         8  23.99\n",
            "8  Staten Island       planter  20 inch terracotta planter         0  17.99\n",
            "9  Staten Island       planter      8 inch plastic planter        53   3.99\n"
          ]
        }
      ],
      "source": [
        "import pandas as pd\n",
        "\n",
        "# load the data into a dataframe called inventory\n",
        "inventory = pd.read_csv('inventory.csv')\n",
        "\n",
        "# print the first 10 rows of the dataframe\n",
        "print(inventory.head(10))"
      ]
    },
    {
      "cell_type": "code",
      "source": [
        "# inspect the first 10 rows of inventory\n",
        "print(inventory.head(10))"
      ],
      "metadata": {
        "colab": {
          "base_uri": "https://localhost:8080/"
        },
        "id": "PuNCamUX7xMq",
        "outputId": "d68b03e6-03bf-414d-e43b-970eb56e3095"
      },
      "execution_count": null,
      "outputs": [
        {
          "output_type": "stream",
          "name": "stdout",
          "text": [
            "        location  product_type         product_description  quantity  price\n",
            "0  Staten Island         seeds                       daisy         4   6.99\n",
            "1  Staten Island         seeds                  calla lily        46  19.99\n",
            "2  Staten Island         seeds                      tomato        85  13.99\n",
            "3  Staten Island  garden tools                        rake         4  13.99\n",
            "4  Staten Island  garden tools                 wheelbarrow         0  89.99\n",
            "5  Staten Island  garden tools                       spade        93  19.99\n",
            "6  Staten Island  pest_control               insect killer        74  12.99\n",
            "7  Staten Island  pest_control                 weed killer         8  23.99\n",
            "8  Staten Island       planter  20 inch terracotta planter         0  17.99\n",
            "9  Staten Island       planter      8 inch plastic planter        53   3.99\n"
          ]
        }
      ]
    },
    {
      "source": [
        "# Select the first 10 rows of inventory\n",
        "staten_island = inventory.iloc[:10, :]\n",
        "\n",
        "# Print the first 10 rows of staten_island\n",
        "print(staten_island.head())"
      ],
      "cell_type": "code",
      "metadata": {
        "colab": {
          "base_uri": "https://localhost:8080/"
        },
        "id": "aGKBIY1O-C3t",
        "outputId": "dc51e42b-e349-4639-8f6f-64df5a874550"
      },
      "execution_count": null,
      "outputs": [
        {
          "output_type": "stream",
          "name": "stdout",
          "text": [
            "        location  product_type product_description  quantity  price\n",
            "0  Staten Island         seeds               daisy         4   6.99\n",
            "1  Staten Island         seeds          calla lily        46  19.99\n",
            "2  Staten Island         seeds              tomato        85  13.99\n",
            "3  Staten Island  garden tools                rake         4  13.99\n",
            "4  Staten Island  garden tools         wheelbarrow         0  89.99\n"
          ]
        }
      ]
    },
    {
      "cell_type": "code",
      "source": [
        "# select the product_description column from staten_island\n",
        "product_request = staten_island['product_description']\n",
        "\n",
        "# print the first 5 rows of product_request\n",
        "print(product_request.head())"
      ],
      "metadata": {
        "colab": {
          "base_uri": "https://localhost:8080/"
        },
        "id": "Up43Vh6y-DyY",
        "outputId": "58241c1e-0e12-4b8a-8652-9f8f535208c2"
      },
      "execution_count": null,
      "outputs": [
        {
          "output_type": "stream",
          "name": "stdout",
          "text": [
            "0          daisy\n",
            "1     calla lily\n",
            "2         tomato\n",
            "3           rake\n",
            "4    wheelbarrow\n",
            "Name: product_description, dtype: object\n"
          ]
        }
      ]
    },
    {
      "cell_type": "code",
      "source": [
        "# select all rows where location is \"brooklyn\" and product_type is \"seed\"\n",
        "seed_request = inventory[(inventory['location'] == 'Brooklyn') & (inventory['product_type'] == 'seeds')]\n",
        "\n",
        "# print the first 5 rows of seed_request\n",
        "print(seed_request.head())"
      ],
      "metadata": {
        "colab": {
          "base_uri": "https://localhost:8080/"
        },
        "id": "za7NX3i6_EOQ",
        "outputId": "6f0ef0a9-d3a9-4ae0-bcfc-f684f338232b"
      },
      "execution_count": null,
      "outputs": [
        {
          "output_type": "stream",
          "name": "stdout",
          "text": [
            "    location product_type product_description  quantity  price\n",
            "10  Brooklyn        seeds               daisy        50   6.99\n",
            "11  Brooklyn        seeds          calla lily         0  19.99\n",
            "12  Brooklyn        seeds              tomato         0  13.99\n"
          ]
        }
      ]
    },
    {
      "cell_type": "code",
      "source": [
        "# add a new column called in_stock to inventory\n",
        "inventory['in_stock'] = inventory['quantity'] > 0\n",
        "\n",
        "# print the first 5 rows of inventory\n",
        "print(inventory.head())"
      ],
      "metadata": {
        "colab": {
          "base_uri": "https://localhost:8080/"
        },
        "id": "3WzB8E3RFOHs",
        "outputId": "8f5fcafe-ba3f-4057-9216-f0ff6af0aaac"
      },
      "execution_count": null,
      "outputs": [
        {
          "output_type": "stream",
          "name": "stdout",
          "text": [
            "        location  product_type product_description  quantity  price  in_stock\n",
            "0  Staten Island         seeds               daisy         4   6.99      True\n",
            "1  Staten Island         seeds          calla lily        46  19.99      True\n",
            "2  Staten Island         seeds              tomato        85  13.99      True\n",
            "3  Staten Island  garden tools                rake         4  13.99      True\n",
            "4  Staten Island  garden tools         wheelbarrow         0  89.99     False\n"
          ]
        }
      ]
    },
    {
      "cell_type": "code",
      "source": [
        "# Add a new column called total_value to inventory\n",
        "inventory['total_value'] = inventory['price'] * inventory['quantity']\n",
        "\n",
        "# Print the first 5 rows of inventory\n",
        "print(inventory.head())"
      ],
      "metadata": {
        "colab": {
          "base_uri": "https://localhost:8080/"
        },
        "id": "55v5IoxVFm2V",
        "outputId": "8c54a1c4-1f0b-48ac-c5ff-746d984bd838"
      },
      "execution_count": null,
      "outputs": [
        {
          "output_type": "stream",
          "name": "stdout",
          "text": [
            "        location  product_type product_description  quantity  price  in_stock  \\\n",
            "0  Staten Island         seeds               daisy         4   6.99      True   \n",
            "1  Staten Island         seeds          calla lily        46  19.99      True   \n",
            "2  Staten Island         seeds              tomato        85  13.99      True   \n",
            "3  Staten Island  garden tools                rake         4  13.99      True   \n",
            "4  Staten Island  garden tools         wheelbarrow         0  89.99     False   \n",
            "\n",
            "   total_value  \n",
            "0        27.96  \n",
            "1       919.54  \n",
            "2      1189.15  \n",
            "3        55.96  \n",
            "4         0.00  \n"
          ]
        }
      ]
    },
    {
      "cell_type": "code",
      "source": [
        "# Apply the lambda function to the inventory Dataframe and save it to a new column\n",
        "inventory['total_value_lambda'] = inventory.apply(lambda x: x['price'] * x['quantity'], axis=1)\n",
        "\n",
        "# Print the first 5 rows of inventory\n",
        "print(inventory.head())\n"
      ],
      "metadata": {
        "colab": {
          "base_uri": "https://localhost:8080/"
        },
        "id": "CZB9tym3GIln",
        "outputId": "12b17283-366c-43ef-ef47-93b0720cecc2"
      },
      "execution_count": null,
      "outputs": [
        {
          "output_type": "stream",
          "name": "stdout",
          "text": [
            "        location  product_type product_description  quantity  price  in_stock  \\\n",
            "0  Staten Island         seeds               daisy         4   6.99      True   \n",
            "1  Staten Island         seeds          calla lily        46  19.99      True   \n",
            "2  Staten Island         seeds              tomato        85  13.99      True   \n",
            "3  Staten Island  garden tools                rake         4  13.99      True   \n",
            "4  Staten Island  garden tools         wheelbarrow         0  89.99     False   \n",
            "\n",
            "   total_value  total_value_lambda  \n",
            "0        27.96               27.96  \n",
            "1       919.54              919.54  \n",
            "2      1189.15             1189.15  \n",
            "3        55.96               55.96  \n",
            "4         0.00                0.00  \n"
          ]
        }
      ]
    },
    {
      "cell_type": "code",
      "source": [
        "combine_lambda = lambda row: \\\n",
        "    '{} - {}'.format(row.product_type,\n",
        "                     row.product_description)\n",
        "\n",
        "inventory['full_description'] = inventory.apply(combine_lambda, axis=1)"
      ],
      "metadata": {
        "id": "qjUoMyY-Je4U"
      },
      "execution_count": null,
      "outputs": []
    },
    {
      "cell_type": "code",
      "source": [],
      "metadata": {
        "id": "ZPgsbw4rKfpp"
      },
      "execution_count": null,
      "outputs": []
    }
  ]
}